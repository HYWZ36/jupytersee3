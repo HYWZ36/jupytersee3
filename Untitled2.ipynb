{
 "cells": [
  {
   "cell_type": "code",
   "execution_count": 1,
   "metadata": {},
   "outputs": [
    {
     "ename": "SyntaxError",
     "evalue": "invalid syntax (<ipython-input-1-ce92e16117be>, line 24)",
     "output_type": "error",
     "traceback": [
      "\u001b[1;36m  File \u001b[1;32m\"<ipython-input-1-ce92e16117be>\"\u001b[1;36m, line \u001b[1;32m24\u001b[0m\n\u001b[1;33m    def ssh2(ip,username='hywz',passwd='WEIweiii',cmd=''cal','echo hello!''):\u001b[0m\n\u001b[1;37m                                                          ^\u001b[0m\n\u001b[1;31mSyntaxError\u001b[0m\u001b[1;31m:\u001b[0m invalid syntax\n"
     ]
    }
   ],
   "source": [
    "#-*- coding: utf-8 -*-\n",
    "#!/usr/bin/python \n",
    "import requests\n",
    "from lxml import etree\n",
    "import csv\n",
    "import time\n",
    "import random\n",
    "from collections import OrderedDict\n",
    "import codecs\n",
    "from datetime import date\n",
    "from multiprocessing.dummy import Pool as Threadpool\n",
    "from selenium import webdriver\n",
    "from selenium.webdriver.chrome.options import Options\n",
    "import ast\n",
    "import json\n",
    "import re\n",
    "import os\n",
    "import string\n",
    "import cookielib\n",
    "import urllib2\n",
    "import paramiko\n",
    "import threading\n",
    "paramiko.util.log_to_file(\"paramiko.log\")\n",
    "def ssh2(ip,username='hywz',passwd='WEIweiii',cmd=''cal','echo hello!''):\n",
    "    try:\n",
    "        ssh = paramiko.SSHClient()\n",
    "        ssh.set_missing_host_key_policy(paramiko.AutoAddPolicy())\n",
    "        ssh.connect(ip,22,username,passwd,timeout=5)\n",
    "#         for m in cmd:\n",
    "#             stdin, stdout, stderr = ssh.exec_command(m)\n",
    "# #           stdin.write(\"Y\")   #简单交互，输入 ‘Y’ \n",
    "#             out = stdout.readlines()\n",
    "#             #屏幕输出\n",
    "#             for o in out:\n",
    "#                 print o,\n",
    "        print '%s\\tOK\\n'%(ip)\n",
    "        ssh.close()\n",
    "    except :\n",
    "        print '%s\\tError\\n'%(ip)\n",
    "\n",
    "if __name__ == \"__main__\":\n",
    "    data = open('list_ip.txt', 'r')  # 打开文件\n",
    "    list_all = []\n",
    "    buf = []  # 缓存文件中数据的变量\n",
    "    for lines in data:\n",
    "        buf.append(lines.strip())\n",
    "    data.close()\n",
    "    #     print(kb_list)\n",
    "    #     raw_input()\n",
    "    # 开始缓存或解析网页\n",
    "    pool = Threadpool(8)  # 单线程跑的慢，但是基本很稳定没有被cnvd封杀。本次跑完整个cnvd库大概十天左右，期间网络波动中断需要维护代码，及爬虫重新爬的页面范围。\n",
    "    #     a.run()\n",
    "    pool.map(ssh2, buf)\n",
    "    pool.close()\n",
    "    pool.join()"
   ]
  }
 ],
 "metadata": {
  "kernelspec": {
   "display_name": "Python 2",
   "language": "python",
   "name": "python2"
  },
  "language_info": {
   "codemirror_mode": {
    "name": "ipython",
    "version": 2
   },
   "file_extension": ".py",
   "mimetype": "text/x-python",
   "name": "python",
   "nbconvert_exporter": "python",
   "pygments_lexer": "ipython2",
   "version": "2.7.16"
  }
 },
 "nbformat": 4,
 "nbformat_minor": 2
}
