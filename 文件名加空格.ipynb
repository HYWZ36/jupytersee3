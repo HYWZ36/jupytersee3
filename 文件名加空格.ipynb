{
 "cells": [
  {
   "cell_type": "code",
   "execution_count": 1,
   "metadata": {
    "code_folding": []
   },
   "outputs": [],
   "source": [
    "#coding=utf-8\n",
    "import sys,os\n",
    " \n",
    "if __name__=='__main__':\n",
    "    path = r'C:\\Users\\wz\\Desktop\\118daishangchuan'\n",
    "    i =0\n",
    "    for root, subdirs, files in os.walk(path):\n",
    "        for name in files:\n",
    "            i=i+1\n",
    "            index0 = 8-i%3\n",
    "#             print(name)\n",
    "            oldname = unicode(name,'gbk')\n",
    "#             print(oldname)\n",
    "            try:\n",
    "#                 a=1\n",
    "                newname = oldname[:-index0]+' '+oldname[-index0:]         \n",
    "                os.rename(os.path.join(root, oldname), os.path.join(root, newname))\n",
    "            except: \n",
    "                pass"
   ]
  },
  {
   "cell_type": "code",
   "execution_count": 1,
   "metadata": {},
   "outputs": [
    {
     "name": "stdout",
     "output_type": "stream",
     "text": [
      "中\n"
     ]
    }
   ],
   "source": [
    "a = '中'\n",
    "print(a)"
   ]
  }
 ],
 "metadata": {
  "kernelspec": {
   "display_name": "Python 2",
   "language": "python",
   "name": "python2"
  },
  "language_info": {
   "codemirror_mode": {
    "name": "ipython",
    "version": 2
   },
   "file_extension": ".py",
   "mimetype": "text/x-python",
   "name": "python",
   "nbconvert_exporter": "python",
   "pygments_lexer": "ipython2",
   "version": "2.7.16"
  }
 },
 "nbformat": 4,
 "nbformat_minor": 2
}
