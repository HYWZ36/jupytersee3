{
 "cells": [
  {
   "cell_type": "code",
   "execution_count": 1,
   "metadata": {},
   "outputs": [],
   "source": [
    "import os\n",
    "import os.path\n",
    "\n",
    "txt_path = 'C:/Users/wz/Desktop/quchong1/'\n",
    "des_txt_path = 'C:/Users/wz/Desktop/quchong2/'\n",
    "\n",
    "txt_files = os.listdir(txt_path)  # 这里得到的是txt_path路径下所有的txt文件，我这里需要对txt批量处理\n",
    "\n",
    "\n",
    "def sort_txt_content():\n",
    "    for txtfile in txt_files:\n",
    "        if not os.path.isdir(txtfile):\n",
    "            out_file = open(des_txt_path + txtfile, 'a')  # 后边参数为'a'时，意味写入时自动换行累加，不用额外添加'\\n'符\n",
    "            in_file = open(txt_path + txtfile, 'r')\n",
    "            lines = in_file.readlines()\n",
    "            newlinks = []\n",
    "            for line in lines:\n",
    "                if line not in newlinks:\n",
    "                    newlinks.append(line)\n",
    "#             print(newlinks)\n",
    "                    out_file.write(line)  # 重新写入新的txt文件\n",
    "\n",
    "\n",
    "if __name__ == '__main__':\n",
    "    sort_txt_content()"
   ]
  },
  {
   "cell_type": "code",
   "execution_count": null,
   "metadata": {},
   "outputs": [],
   "source": []
  }
 ],
 "metadata": {
  "kernelspec": {
   "display_name": "Python 2",
   "language": "python",
   "name": "python2"
  },
  "language_info": {
   "codemirror_mode": {
    "name": "ipython",
    "version": 2
   },
   "file_extension": ".py",
   "mimetype": "text/x-python",
   "name": "python",
   "nbconvert_exporter": "python",
   "pygments_lexer": "ipython2",
   "version": "2.7.16"
  }
 },
 "nbformat": 4,
 "nbformat_minor": 2
}
